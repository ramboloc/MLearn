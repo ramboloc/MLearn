{
 "cells": [
  {
   "cell_type": "markdown",
   "source": [
    "Serialize the DingTalk we input\n",
    "    serialize: the function that transform the DingTalk to a sequence\n",
    "    le: the result of serialize"
   ],
   "metadata": {
    "collapsed": false
   }
  },
  {
   "cell_type": "code",
   "execution_count": 48,
   "metadata": {
    "collapsed": true
   },
   "outputs": [
    {
     "name": "stdout",
     "output_type": "stream",
     "text": [
      "['178', '161', '252']\n"
     ]
    }
   ],
   "source": [
    "import numpy as np\n",
    "\n",
    "\n",
    "def serialize(DingTalk):\n",
    "    l=[]\n",
    "    DingTalk=str(DingTalk)\n",
    "    for i in range(0,len(DingTalk)-2):\n",
    "        if i%3==0 :\n",
    "            l.append((DingTalk[i:i+3]))\n",
    "    return l\n",
    "my_DingTalk=17816125215\n",
    "le=serialize(my_DingTalk)\n",
    "print(le)\n"
   ]
  },
  {
   "cell_type": "markdown",
   "source": [
    "In this step, we convert this sequence of numbers into 3x3 numpy matrix A\n",
    "    le: the sequence we got in the last step\n",
    "    v: the transform result"
   ],
   "metadata": {
    "collapsed": false
   }
  },
  {
   "cell_type": "code",
   "execution_count": 50,
   "outputs": [
    {
     "name": "stdout",
     "output_type": "stream",
     "text": [
      "[[1 7 8]\n",
      " [1 6 1]\n",
      " [2 5 2]]\n"
     ]
    }
   ],
   "source": [
    "import numpy as np\n",
    "\n",
    "for i in range(0,len(le)):\n",
    "    le[i]=[le[i][0],le[i][1],le[i][2]]\n",
    "    le[i]=[int(i) for i in le[i]]\n",
    "v=np.array(le)\n",
    "print(v)"
   ],
   "metadata": {
    "collapsed": false,
    "pycharm": {
     "name": "#%%\n"
    }
   }
  },
  {
   "cell_type": "markdown",
   "source": [
    "As for matrix inversion, we first judge whether the matrix is reversible, and then inverse the matrix\n",
    "We use the function transpose to get the transpose of v"
   ],
   "metadata": {
    "collapsed": false
   }
  },
  {
   "cell_type": "code",
   "execution_count": 62,
   "outputs": [
    {
     "name": "stdout",
     "output_type": "stream",
     "text": [
      "the inverse of v :\n",
      "error,the matrix cannot be inverse\n",
      "the transpose of v :\n",
      "[[1 1 2]\n",
      " [7 6 5]\n",
      " [8 1 2]]\n",
      "the result of v * transpose :\n",
      "[[ 1  7 16]\n",
      " [ 7 36  5]\n",
      " [16  5  4]]\n"
     ]
    }
   ],
   "source": [
    "\n",
    "def inverse_matrix(matrix):\n",
    "    if np.linalg.det(matrix)>0:\n",
    "        in_matrix=np.linalg.inv(matrix)\n",
    "        return in_matrix\n",
    "    else:\n",
    "        return \"error,the matrix cannot be inverse\"\n",
    "inverse_v=inverse_matrix(v)\n",
    "print(\"the inverse of v :\\n%s\"%inverse_v)\n",
    "\n",
    "transpose_v=v.transpose()\n",
    "print(\"the transpose of v :\\n%s\"%transpose_v)\n",
    "\n",
    "res=v*transpose_v\n",
    "print(\"the result of v * transpose :\\n%s\"%res)"
   ],
   "metadata": {
    "collapsed": false,
    "pycharm": {
     "name": "#%%\n"
    }
   }
  },
  {
   "cell_type": "code",
   "execution_count": 64,
   "outputs": [
    {
     "name": "stdout",
     "output_type": "stream",
     "text": [
      "[[1 7 8]\n",
      " [2 5 2]]\n"
     ]
    }
   ],
   "source": [
    "sub_v=np.array([v[0],v[2]])\n",
    "print(sub_v)"
   ],
   "metadata": {
    "collapsed": false,
    "pycharm": {
     "name": "#%%\n"
    }
   }
  }
 ],
 "metadata": {
  "kernelspec": {
   "display_name": "Python 3",
   "language": "python",
   "name": "python3"
  },
  "language_info": {
   "codemirror_mode": {
    "name": "ipython",
    "version": 2
   },
   "file_extension": ".py",
   "mimetype": "text/x-python",
   "name": "python",
   "nbconvert_exporter": "python",
   "pygments_lexer": "ipython2",
   "version": "2.7.6"
  }
 },
 "nbformat": 4,
 "nbformat_minor": 0
}