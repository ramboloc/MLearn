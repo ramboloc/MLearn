{
 "cells": [
  {
   "cell_type": "code",
   "execution_count": 45,
   "outputs": [
    {
     "data": {
      "text/plain": "   position of the center  Prismatic coefficient  Length-displacement ratio  \\\n0                    -2.3                  0.568                       4.78   \n1                    -2.3                  0.568                       4.78   \n2                    -2.3                  0.568                       4.78   \n3                    -2.3                  0.568                       4.78   \n4                    -2.3                  0.568                       4.78   \n\n   Beam-draught ratio  Length-beam ratio  Froude number  \\\n0                3.99               3.17          0.125   \n1                3.99               3.17          0.150   \n2                3.99               3.17          0.175   \n3                3.99               3.17          0.200   \n4                3.99               3.17          0.225   \n\n   Residuary resistance per  \n0                      0.11  \n1                      0.27  \n2                      0.47  \n3                      0.78  \n4                      1.18  ",
      "text/html": "<div>\n<style scoped>\n    .dataframe tbody tr th:only-of-type {\n        vertical-align: middle;\n    }\n\n    .dataframe tbody tr th {\n        vertical-align: top;\n    }\n\n    .dataframe thead th {\n        text-align: right;\n    }\n</style>\n<table border=\"1\" class=\"dataframe\">\n  <thead>\n    <tr style=\"text-align: right;\">\n      <th></th>\n      <th>position of the center</th>\n      <th>Prismatic coefficient</th>\n      <th>Length-displacement ratio</th>\n      <th>Beam-draught ratio</th>\n      <th>Length-beam ratio</th>\n      <th>Froude number</th>\n      <th>Residuary resistance per</th>\n    </tr>\n  </thead>\n  <tbody>\n    <tr>\n      <th>0</th>\n      <td>-2.3</td>\n      <td>0.568</td>\n      <td>4.78</td>\n      <td>3.99</td>\n      <td>3.17</td>\n      <td>0.125</td>\n      <td>0.11</td>\n    </tr>\n    <tr>\n      <th>1</th>\n      <td>-2.3</td>\n      <td>0.568</td>\n      <td>4.78</td>\n      <td>3.99</td>\n      <td>3.17</td>\n      <td>0.150</td>\n      <td>0.27</td>\n    </tr>\n    <tr>\n      <th>2</th>\n      <td>-2.3</td>\n      <td>0.568</td>\n      <td>4.78</td>\n      <td>3.99</td>\n      <td>3.17</td>\n      <td>0.175</td>\n      <td>0.47</td>\n    </tr>\n    <tr>\n      <th>3</th>\n      <td>-2.3</td>\n      <td>0.568</td>\n      <td>4.78</td>\n      <td>3.99</td>\n      <td>3.17</td>\n      <td>0.200</td>\n      <td>0.78</td>\n    </tr>\n    <tr>\n      <th>4</th>\n      <td>-2.3</td>\n      <td>0.568</td>\n      <td>4.78</td>\n      <td>3.99</td>\n      <td>3.17</td>\n      <td>0.225</td>\n      <td>1.18</td>\n    </tr>\n  </tbody>\n</table>\n</div>"
     },
     "execution_count": 45,
     "metadata": {},
     "output_type": "execute_result"
    }
   ],
   "source": [
    "#Load the necessary python libraries\n",
    "import numpy as np\n",
    "import pandas as pd\n",
    "import matplotlib.pyplot as plt\n",
    "plt.style.use('ggplot')\n",
    "import pandas as pd\n",
    "\n",
    "df = pd.read_csv('yacht_hydrodynamics.data',sep=' ',header=None)\n",
    "df.columns=['position of the center','Prismatic coefficient','Length-displacement ratio','Beam-draught ratio','Length-beam ratio','Froude number','Residuary resistance per']\n",
    "df.head(5)"
   ],
   "metadata": {
    "collapsed": false,
    "pycharm": {
     "name": "#%%\n"
    }
   }
  },
  {
   "cell_type": "code",
   "execution_count": 46,
   "outputs": [],
   "source": [
    "X = df.drop('position of the center',axis=1).values\n",
    "y = df['position of the center'].values"
   ],
   "metadata": {
    "collapsed": false,
    "pycharm": {
     "name": "#%%\n"
    }
   }
  },
  {
   "cell_type": "code",
   "execution_count": 43,
   "outputs": [],
   "source": [
    "#importing train_test_split\n",
    "from sklearn.model_selection import train_test_split\n",
    "X_train,X_test,y_train,y_test = train_test_split(X,y,test_size=0.4,random_state=42, stratify=y)"
   ],
   "metadata": {
    "collapsed": false,
    "pycharm": {
     "name": "#%%\n"
    }
   }
  },
  {
   "cell_type": "code",
   "execution_count": 49,
   "outputs": [
    {
     "name": "stdout",
     "output_type": "stream",
     "text": [
      "[-2.3 -2.3 -5.   0.  -2.3 -5.  -2.3  0.  -2.3 -2.3  0.  -2.3  0.  -2.3\n",
      " -2.4 -2.3 -2.4 -2.3 -5.   0.  -2.3 -5.  -2.2  0.  -2.3  0.  -2.3  0.\n",
      "  0.  -5.  -2.3 -2.2 -2.4 -2.3 -2.3 -2.3  0.  -2.3  0.  -2.3  0.  -2.3\n",
      " -2.3 -2.3 -5.  -5.   0.  -2.3 -2.3 -2.3 -2.3 -2.3 -2.3 -2.3  0.  -2.3\n",
      " -2.3 -2.4 -2.3 -2.3 -2.3 -2.3 -5.   0.  -5.  -5.  -5.  -2.3 -2.3 -2.3\n",
      " -2.3 -2.3 -2.3 -5.   0.  -2.3  0.   0.  -2.4 -2.4 -2.4  0.  -2.3 -5.\n",
      " -2.3 -2.4  0.  -2.3 -2.2  0.  -2.3 -2.4 -2.4  0.  -2.3  0.  -2.3  0.\n",
      " -2.3 -2.3 -2.2 -2.2  0.  -2.3 -2.3 -2.3 -2.3 -2.3 -2.3 -2.3 -5.  -2.3\n",
      " -2.3 -5.  -5.  -2.3  0.  -2.3 -5.  -2.4 -2.4 -2.4 -5.  -2.3 -2.3 -5.\n",
      " -2.3 -2.2 -2.4  0.  -5.  -2.4 -2.4 -2.3  0.  -2.3 -2.3 -2.3 -5.  -2.3\n",
      "  0.  -2.3 -2.2 -2.4 -2.4 -5.  -5.  -2.3 -2.3 -2.3  0.  -2.3  0.  -2.3\n",
      " -5.  -2.4 -2.3 -2.3 -5.  -2.3 -2.4  0.  -5.  -2.4 -2.4 -5.  -2.2 -2.4\n",
      " -2.3 -2.3 -5.  -2.3 -5.  -5.   0.  -5.  -5.  -2.4 -2.3 -2.4  0.  -5.\n",
      " -2.3 -2.3]\n"
     ]
    },
    {
     "ename": "ValueError",
     "evalue": "Classification metrics can't handle a mix of continuous and multiclass targets",
     "output_type": "error",
     "traceback": [
      "\u001B[1;31m---------------------------------------------------------------------------\u001B[0m",
      "\u001B[1;31mValueError\u001B[0m                                Traceback (most recent call last)",
      "\u001B[1;32m~\\AppData\\Local\\Temp\\ipykernel_3156\\307369025.py\u001B[0m in \u001B[0;36m<module>\u001B[1;34m\u001B[0m\n\u001B[0;32m      5\u001B[0m \u001B[0mknn\u001B[0m\u001B[1;33m.\u001B[0m\u001B[0mfit\u001B[0m\u001B[1;33m(\u001B[0m\u001B[0mX_train\u001B[0m\u001B[1;33m,\u001B[0m \u001B[0my_train\u001B[0m\u001B[1;33m.\u001B[0m\u001B[0mastype\u001B[0m\u001B[1;33m(\u001B[0m\u001B[1;34m'int'\u001B[0m\u001B[1;33m)\u001B[0m\u001B[1;33m)\u001B[0m\u001B[1;33m\u001B[0m\u001B[1;33m\u001B[0m\u001B[0m\n\u001B[0;32m      6\u001B[0m \u001B[0my_hat\u001B[0m \u001B[1;33m=\u001B[0m \u001B[0mknn\u001B[0m\u001B[1;33m.\u001B[0m\u001B[0mpredict\u001B[0m\u001B[1;33m(\u001B[0m\u001B[0mX_test\u001B[0m\u001B[1;33m)\u001B[0m\u001B[1;33m\u001B[0m\u001B[1;33m\u001B[0m\u001B[0m\n\u001B[1;32m----> 7\u001B[1;33m \u001B[0mprint\u001B[0m\u001B[1;33m(\u001B[0m\u001B[0mclassification_report\u001B[0m\u001B[1;33m(\u001B[0m\u001B[0my_test\u001B[0m\u001B[1;33m,\u001B[0m \u001B[0my_hat\u001B[0m\u001B[1;33m)\u001B[0m\u001B[1;33m)\u001B[0m\u001B[1;33m\u001B[0m\u001B[1;33m\u001B[0m\u001B[0m\n\u001B[0m",
      "\u001B[1;32m~\\anaconda3\\envs\\Mach_Learn\\lib\\site-packages\\sklearn\\metrics\\_classification.py\u001B[0m in \u001B[0;36mclassification_report\u001B[1;34m(y_true, y_pred, labels, target_names, sample_weight, digits, output_dict, zero_division)\u001B[0m\n\u001B[0;32m   2108\u001B[0m     \"\"\"\n\u001B[0;32m   2109\u001B[0m \u001B[1;33m\u001B[0m\u001B[0m\n\u001B[1;32m-> 2110\u001B[1;33m     \u001B[0my_type\u001B[0m\u001B[1;33m,\u001B[0m \u001B[0my_true\u001B[0m\u001B[1;33m,\u001B[0m \u001B[0my_pred\u001B[0m \u001B[1;33m=\u001B[0m \u001B[0m_check_targets\u001B[0m\u001B[1;33m(\u001B[0m\u001B[0my_true\u001B[0m\u001B[1;33m,\u001B[0m \u001B[0my_pred\u001B[0m\u001B[1;33m)\u001B[0m\u001B[1;33m\u001B[0m\u001B[1;33m\u001B[0m\u001B[0m\n\u001B[0m\u001B[0;32m   2111\u001B[0m \u001B[1;33m\u001B[0m\u001B[0m\n\u001B[0;32m   2112\u001B[0m     \u001B[1;32mif\u001B[0m \u001B[0mlabels\u001B[0m \u001B[1;32mis\u001B[0m \u001B[1;32mNone\u001B[0m\u001B[1;33m:\u001B[0m\u001B[1;33m\u001B[0m\u001B[1;33m\u001B[0m\u001B[0m\n",
      "\u001B[1;32m~\\anaconda3\\envs\\Mach_Learn\\lib\\site-packages\\sklearn\\metrics\\_classification.py\u001B[0m in \u001B[0;36m_check_targets\u001B[1;34m(y_true, y_pred)\u001B[0m\n\u001B[0;32m     93\u001B[0m         raise ValueError(\n\u001B[0;32m     94\u001B[0m             \"Classification metrics can't handle a mix of {0} and {1} targets\".format(\n\u001B[1;32m---> 95\u001B[1;33m                 \u001B[0mtype_true\u001B[0m\u001B[1;33m,\u001B[0m \u001B[0mtype_pred\u001B[0m\u001B[1;33m\u001B[0m\u001B[1;33m\u001B[0m\u001B[0m\n\u001B[0m\u001B[0;32m     96\u001B[0m             )\n\u001B[0;32m     97\u001B[0m         )\n",
      "\u001B[1;31mValueError\u001B[0m: Classification metrics can't handle a mix of continuous and multiclass targets"
     ]
    }
   ],
   "source": [
    "from sklearn.metrics import classification_report\n",
    "from sklearn.neighbors import KNeighborsClassifier\n",
    "knn = KNeighborsClassifier(n_neighbors=3, weights='uniform')\n",
    "print(y_train)\n",
    "knn.fit(X_train, y_train.astype('int'))\n",
    "y_hat = knn.predict(X_test)\n",
    "print(classification_report(y_test, y_hat))\n"
   ],
   "metadata": {
    "collapsed": false,
    "pycharm": {
     "name": "#%%\n"
    }
   }
  }
 ],
 "metadata": {
  "kernelspec": {
   "display_name": "Python 3",
   "language": "python",
   "name": "python3"
  },
  "language_info": {
   "codemirror_mode": {
    "name": "ipython",
    "version": 2
   },
   "file_extension": ".py",
   "mimetype": "text/x-python",
   "name": "python",
   "nbconvert_exporter": "python",
   "pygments_lexer": "ipython2",
   "version": "2.7.6"
  }
 },
 "nbformat": 4,
 "nbformat_minor": 0
}